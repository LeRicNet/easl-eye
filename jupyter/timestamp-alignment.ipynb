{
 "cells": [
  {
   "cell_type": "code",
   "execution_count": 1,
   "id": "dbb6eaf9-4b38-4f21-9ffa-213a5c58d548",
   "metadata": {},
   "outputs": [],
   "source": [
    "import sys\n",
    "sys.path.append(\"/tf/easl-eye\")"
   ]
  },
  {
   "cell_type": "code",
   "execution_count": 2,
   "id": "f68594e2-d0d6-452f-946c-5aaafb6c4d74",
   "metadata": {},
   "outputs": [],
   "source": [
    "import matplotlib.pyplot as plt\n",
    "import pandas as pd\n",
    "\n",
    "## Local Package\n",
    "import easl_eye as eye\n",
    "from easl_eye.io import *\n",
    "from easl_eye.preprocess import eyes as blink\n",
    "from easl_eye.viz import raw_gaze_plot"
   ]
  },
  {
   "cell_type": "code",
   "execution_count": 3,
   "id": "f2dfa691-7561-4427-9383-a275f8bf7fe0",
   "metadata": {},
   "outputs": [],
   "source": [
    "# Loading the two different datasets\n",
    "image_tracking = get_viewer_tracking_info(url=\"http://amc-tensor1.ucdenver.pvt/eyetracking\")\n",
    "eye_tracking = load_eyetracking_data(fname=\"/tf/eye-tracking/test_gaze_data.csv\")"
   ]
  },
  {
   "cell_type": "code",
   "execution_count": 4,
   "id": "dcbfb5dc-c891-4fe3-986f-bd76b12b7acd",
   "metadata": {},
   "outputs": [
    {
     "name": "stderr",
     "output_type": "stream",
     "text": [
      "/tf/easl-eye/easl_eye/integrate.py:18: SettingWithCopyWarning: \n",
      "A value is trying to be set on a copy of a slice from a DataFrame.\n",
      "Try using .loc[row_indexer,col_indexer] = value instead\n",
      "\n",
      "See the caveats in the documentation: https://pandas.pydata.org/pandas-docs/stable/user_guide/indexing.html#returning-a-view-versus-a-copy\n",
      "  image_tracking['ui_timestamp_us'] = image_tracking['ui_timestamp'].apply(convert2us)\n",
      "/tf/easl-eye/easl_eye/integrate.py:20: SettingWithCopyWarning: \n",
      "A value is trying to be set on a copy of a slice from a DataFrame.\n",
      "Try using .loc[row_indexer,col_indexer] = value instead\n",
      "\n",
      "See the caveats in the documentation: https://pandas.pydata.org/pandas-docs/stable/user_guide/indexing.html#returning-a-view-versus-a-copy\n",
      "  image_tracking['adjusted_timestamp'] = image_tracking['ui_timestamp_us'].apply(\n",
      "/tf/easl-eye/easl_eye/integrate.py:23: SettingWithCopyWarning: \n",
      "A value is trying to be set on a copy of a slice from a DataFrame.\n",
      "Try using .loc[row_indexer,col_indexer] = value instead\n",
      "\n",
      "See the caveats in the documentation: https://pandas.pydata.org/pandas-docs/stable/user_guide/indexing.html#returning-a-view-versus-a-copy\n",
      "  image_tracking['adjusted_timestamp'] = pd.to_datetime(image_tracking['adjusted_timestamp'], unit='ms')\n"
     ]
    },
    {
     "data": {
      "text/html": [
       "<div>\n",
       "<style scoped>\n",
       "    .dataframe tbody tr th:only-of-type {\n",
       "        vertical-align: middle;\n",
       "    }\n",
       "\n",
       "    .dataframe tbody tr th {\n",
       "        vertical-align: top;\n",
       "    }\n",
       "\n",
       "    .dataframe thead th {\n",
       "        text-align: right;\n",
       "    }\n",
       "</style>\n",
       "<table border=\"1\" class=\"dataframe\">\n",
       "  <thead>\n",
       "    <tr style=\"text-align: right;\">\n",
       "      <th></th>\n",
       "      <th>right_x</th>\n",
       "      <th>right_y</th>\n",
       "      <th>left_x</th>\n",
       "      <th>left_y</th>\n",
       "      <th>timestamp_hardware</th>\n",
       "      <th>id</th>\n",
       "      <th>created_at</th>\n",
       "      <th>updated_at</th>\n",
       "      <th>sessionID</th>\n",
       "      <th>ui_timestamp</th>\n",
       "      <th>current_uid</th>\n",
       "      <th>ui_timestamp_date</th>\n",
       "      <th>ui_timestamp_time</th>\n",
       "      <th>ui_timestamp_us</th>\n",
       "    </tr>\n",
       "  </thead>\n",
       "  <tbody>\n",
       "    <tr>\n",
       "      <th>1989-04-07 04:15:42.232</th>\n",
       "      <td>NaN</td>\n",
       "      <td>NaN</td>\n",
       "      <td>NaN</td>\n",
       "      <td>NaN</td>\n",
       "      <td>NaN</td>\n",
       "      <td>4.0</td>\n",
       "      <td>None</td>\n",
       "      <td>None</td>\n",
       "      <td>eyetracking-test-1</td>\n",
       "      <td>2024-05-14T15:48:04.740Z</td>\n",
       "      <td>wadors:http://amc-tensor1.ucdenver.pvt:808/pac...</td>\n",
       "      <td>2024-05-14</td>\n",
       "      <td>15:48:04.740Z</td>\n",
       "      <td>1.715702e+13</td>\n",
       "    </tr>\n",
       "    <tr>\n",
       "      <th>1989-04-07 04:15:47.082</th>\n",
       "      <td>NaN</td>\n",
       "      <td>NaN</td>\n",
       "      <td>NaN</td>\n",
       "      <td>NaN</td>\n",
       "      <td>NaN</td>\n",
       "      <td>5.0</td>\n",
       "      <td>None</td>\n",
       "      <td>None</td>\n",
       "      <td>eyetracking-test-1</td>\n",
       "      <td>2024-05-14T15:48:05.225Z</td>\n",
       "      <td>wadors:http://amc-tensor1.ucdenver.pvt:808/pac...</td>\n",
       "      <td>2024-05-14</td>\n",
       "      <td>15:48:05.225Z</td>\n",
       "      <td>1.715702e+13</td>\n",
       "    </tr>\n",
       "    <tr>\n",
       "      <th>1989-04-07 04:42:43.521</th>\n",
       "      <td>(0.26330816745758057</td>\n",
       "      <td>0.7664732933044434)</td>\n",
       "      <td>(0.2840283215045929</td>\n",
       "      <td>0.7468969821929932)</td>\n",
       "      <td>4.155418e+11</td>\n",
       "      <td>5.0</td>\n",
       "      <td>None</td>\n",
       "      <td>None</td>\n",
       "      <td>eyetracking-test-1</td>\n",
       "      <td>2024-05-14T15:48:05.225Z</td>\n",
       "      <td>wadors:http://amc-tensor1.ucdenver.pvt:808/pac...</td>\n",
       "      <td>2024-05-14</td>\n",
       "      <td>15:48:05.225Z</td>\n",
       "      <td>1.715702e+13</td>\n",
       "    </tr>\n",
       "    <tr>\n",
       "      <th>1989-04-07 04:42:51.856</th>\n",
       "      <td>(0.24701371788978577</td>\n",
       "      <td>0.7690545916557312)</td>\n",
       "      <td>(0.278091698884964</td>\n",
       "      <td>0.7467371225357056)</td>\n",
       "      <td>4.155418e+11</td>\n",
       "      <td>5.0</td>\n",
       "      <td>None</td>\n",
       "      <td>None</td>\n",
       "      <td>eyetracking-test-1</td>\n",
       "      <td>2024-05-14T15:48:05.225Z</td>\n",
       "      <td>wadors:http://amc-tensor1.ucdenver.pvt:808/pac...</td>\n",
       "      <td>2024-05-14</td>\n",
       "      <td>15:48:05.225Z</td>\n",
       "      <td>1.715702e+13</td>\n",
       "    </tr>\n",
       "    <tr>\n",
       "      <th>1989-04-07 04:43:00.196</th>\n",
       "      <td>(0.2643909752368927</td>\n",
       "      <td>0.7783610224723816)</td>\n",
       "      <td>(0.2773456871509552</td>\n",
       "      <td>0.7540733218193054)</td>\n",
       "      <td>4.155419e+11</td>\n",
       "      <td>5.0</td>\n",
       "      <td>None</td>\n",
       "      <td>None</td>\n",
       "      <td>eyetracking-test-1</td>\n",
       "      <td>2024-05-14T15:48:05.225Z</td>\n",
       "      <td>wadors:http://amc-tensor1.ucdenver.pvt:808/pac...</td>\n",
       "      <td>2024-05-14</td>\n",
       "      <td>15:48:05.225Z</td>\n",
       "      <td>1.715702e+13</td>\n",
       "    </tr>\n",
       "    <tr>\n",
       "      <th>...</th>\n",
       "      <td>...</td>\n",
       "      <td>...</td>\n",
       "      <td>...</td>\n",
       "      <td>...</td>\n",
       "      <td>...</td>\n",
       "      <td>...</td>\n",
       "      <td>...</td>\n",
       "      <td>...</td>\n",
       "      <td>...</td>\n",
       "      <td>...</td>\n",
       "      <td>...</td>\n",
       "      <td>...</td>\n",
       "      <td>...</td>\n",
       "      <td>...</td>\n",
       "    </tr>\n",
       "    <tr>\n",
       "      <th>1989-04-08 01:37:30.942</th>\n",
       "      <td>(0.2528960406780243</td>\n",
       "      <td>0.751578152179718)</td>\n",
       "      <td>(0.25949689745903015</td>\n",
       "      <td>0.7668179273605347)</td>\n",
       "      <td>4.156171e+11</td>\n",
       "      <td>439.0</td>\n",
       "      <td>None</td>\n",
       "      <td>None</td>\n",
       "      <td>eyetracking-test-1</td>\n",
       "      <td>2024-05-14T17:56:15.611Z</td>\n",
       "      <td>wadors:http://amc-tensor1.ucdenver.pvt:808/pac...</td>\n",
       "      <td>2024-05-14</td>\n",
       "      <td>17:56:15.611Z</td>\n",
       "      <td>1.715709e+13</td>\n",
       "    </tr>\n",
       "    <tr>\n",
       "      <th>1989-04-08 01:37:31.382</th>\n",
       "      <td>(0.2528960406780243</td>\n",
       "      <td>0.751578152179718)</td>\n",
       "      <td>(0.25949689745903015</td>\n",
       "      <td>0.7668179273605347)</td>\n",
       "      <td>4.156171e+11</td>\n",
       "      <td>440.0</td>\n",
       "      <td>None</td>\n",
       "      <td>None</td>\n",
       "      <td>eyetracking-test-1</td>\n",
       "      <td>2024-05-14T17:56:15.655Z</td>\n",
       "      <td>wadors:http://amc-tensor1.ucdenver.pvt:808/pac...</td>\n",
       "      <td>2024-05-14</td>\n",
       "      <td>17:56:15.655Z</td>\n",
       "      <td>1.715709e+13</td>\n",
       "    </tr>\n",
       "    <tr>\n",
       "      <th>1989-04-08 01:37:36.632</th>\n",
       "      <td>(0.2528960406780243</td>\n",
       "      <td>0.751578152179718)</td>\n",
       "      <td>(0.25949689745903015</td>\n",
       "      <td>0.7668179273605347)</td>\n",
       "      <td>4.156171e+11</td>\n",
       "      <td>441.0</td>\n",
       "      <td>None</td>\n",
       "      <td>None</td>\n",
       "      <td>eyetracking-test-1</td>\n",
       "      <td>2024-05-14T17:56:16.180Z</td>\n",
       "      <td>wadors:http://amc-tensor1.ucdenver.pvt:808/pac...</td>\n",
       "      <td>2024-05-14</td>\n",
       "      <td>17:56:16.180Z</td>\n",
       "      <td>1.715709e+13</td>\n",
       "    </tr>\n",
       "    <tr>\n",
       "      <th>1989-04-08 01:37:36.942</th>\n",
       "      <td>(0.2528960406780243</td>\n",
       "      <td>0.751578152179718)</td>\n",
       "      <td>(0.25949689745903015</td>\n",
       "      <td>0.7668179273605347)</td>\n",
       "      <td>4.156171e+11</td>\n",
       "      <td>442.0</td>\n",
       "      <td>None</td>\n",
       "      <td>None</td>\n",
       "      <td>eyetracking-test-1</td>\n",
       "      <td>2024-05-14T17:56:16.211Z</td>\n",
       "      <td>wadors:http://amc-tensor1.ucdenver.pvt:808/pac...</td>\n",
       "      <td>2024-05-14</td>\n",
       "      <td>17:56:16.211Z</td>\n",
       "      <td>1.715709e+13</td>\n",
       "    </tr>\n",
       "    <tr>\n",
       "      <th>1989-04-08 01:37:37.352</th>\n",
       "      <td>(0.2539794445037842</td>\n",
       "      <td>0.7393904328346252)</td>\n",
       "      <td>(0.2524123191833496</td>\n",
       "      <td>0.7639597058296204)</td>\n",
       "      <td>4.156171e+11</td>\n",
       "      <td>443.0</td>\n",
       "      <td>None</td>\n",
       "      <td>None</td>\n",
       "      <td>eyetracking-test-1</td>\n",
       "      <td>2024-05-14T17:56:16.252Z</td>\n",
       "      <td>wadors:http://amc-tensor1.ucdenver.pvt:808/pac...</td>\n",
       "      <td>2024-05-14</td>\n",
       "      <td>17:56:16.252Z</td>\n",
       "      <td>1.715709e+13</td>\n",
       "    </tr>\n",
       "  </tbody>\n",
       "</table>\n",
       "<p>9474 rows × 14 columns</p>\n",
       "</div>"
      ],
      "text/plain": [
       "                                      right_x               right_y  \\\n",
       "1989-04-07 04:15:42.232                   NaN                   NaN   \n",
       "1989-04-07 04:15:47.082                   NaN                   NaN   \n",
       "1989-04-07 04:42:43.521  (0.26330816745758057   0.7664732933044434)   \n",
       "1989-04-07 04:42:51.856  (0.24701371788978577   0.7690545916557312)   \n",
       "1989-04-07 04:43:00.196   (0.2643909752368927   0.7783610224723816)   \n",
       "...                                       ...                   ...   \n",
       "1989-04-08 01:37:30.942   (0.2528960406780243    0.751578152179718)   \n",
       "1989-04-08 01:37:31.382   (0.2528960406780243    0.751578152179718)   \n",
       "1989-04-08 01:37:36.632   (0.2528960406780243    0.751578152179718)   \n",
       "1989-04-08 01:37:36.942   (0.2528960406780243    0.751578152179718)   \n",
       "1989-04-08 01:37:37.352   (0.2539794445037842   0.7393904328346252)   \n",
       "\n",
       "                                       left_x                left_y  \\\n",
       "1989-04-07 04:15:42.232                   NaN                   NaN   \n",
       "1989-04-07 04:15:47.082                   NaN                   NaN   \n",
       "1989-04-07 04:42:43.521   (0.2840283215045929   0.7468969821929932)   \n",
       "1989-04-07 04:42:51.856    (0.278091698884964   0.7467371225357056)   \n",
       "1989-04-07 04:43:00.196   (0.2773456871509552   0.7540733218193054)   \n",
       "...                                       ...                   ...   \n",
       "1989-04-08 01:37:30.942  (0.25949689745903015   0.7668179273605347)   \n",
       "1989-04-08 01:37:31.382  (0.25949689745903015   0.7668179273605347)   \n",
       "1989-04-08 01:37:36.632  (0.25949689745903015   0.7668179273605347)   \n",
       "1989-04-08 01:37:36.942  (0.25949689745903015   0.7668179273605347)   \n",
       "1989-04-08 01:37:37.352   (0.2524123191833496   0.7639597058296204)   \n",
       "\n",
       "                         timestamp_hardware     id created_at updated_at  \\\n",
       "1989-04-07 04:15:42.232                 NaN    4.0       None       None   \n",
       "1989-04-07 04:15:47.082                 NaN    5.0       None       None   \n",
       "1989-04-07 04:42:43.521        4.155418e+11    5.0       None       None   \n",
       "1989-04-07 04:42:51.856        4.155418e+11    5.0       None       None   \n",
       "1989-04-07 04:43:00.196        4.155419e+11    5.0       None       None   \n",
       "...                                     ...    ...        ...        ...   \n",
       "1989-04-08 01:37:30.942        4.156171e+11  439.0       None       None   \n",
       "1989-04-08 01:37:31.382        4.156171e+11  440.0       None       None   \n",
       "1989-04-08 01:37:36.632        4.156171e+11  441.0       None       None   \n",
       "1989-04-08 01:37:36.942        4.156171e+11  442.0       None       None   \n",
       "1989-04-08 01:37:37.352        4.156171e+11  443.0       None       None   \n",
       "\n",
       "                                  sessionID              ui_timestamp  \\\n",
       "1989-04-07 04:15:42.232  eyetracking-test-1  2024-05-14T15:48:04.740Z   \n",
       "1989-04-07 04:15:47.082  eyetracking-test-1  2024-05-14T15:48:05.225Z   \n",
       "1989-04-07 04:42:43.521  eyetracking-test-1  2024-05-14T15:48:05.225Z   \n",
       "1989-04-07 04:42:51.856  eyetracking-test-1  2024-05-14T15:48:05.225Z   \n",
       "1989-04-07 04:43:00.196  eyetracking-test-1  2024-05-14T15:48:05.225Z   \n",
       "...                                     ...                       ...   \n",
       "1989-04-08 01:37:30.942  eyetracking-test-1  2024-05-14T17:56:15.611Z   \n",
       "1989-04-08 01:37:31.382  eyetracking-test-1  2024-05-14T17:56:15.655Z   \n",
       "1989-04-08 01:37:36.632  eyetracking-test-1  2024-05-14T17:56:16.180Z   \n",
       "1989-04-08 01:37:36.942  eyetracking-test-1  2024-05-14T17:56:16.211Z   \n",
       "1989-04-08 01:37:37.352  eyetracking-test-1  2024-05-14T17:56:16.252Z   \n",
       "\n",
       "                                                               current_uid  \\\n",
       "1989-04-07 04:15:42.232  wadors:http://amc-tensor1.ucdenver.pvt:808/pac...   \n",
       "1989-04-07 04:15:47.082  wadors:http://amc-tensor1.ucdenver.pvt:808/pac...   \n",
       "1989-04-07 04:42:43.521  wadors:http://amc-tensor1.ucdenver.pvt:808/pac...   \n",
       "1989-04-07 04:42:51.856  wadors:http://amc-tensor1.ucdenver.pvt:808/pac...   \n",
       "1989-04-07 04:43:00.196  wadors:http://amc-tensor1.ucdenver.pvt:808/pac...   \n",
       "...                                                                    ...   \n",
       "1989-04-08 01:37:30.942  wadors:http://amc-tensor1.ucdenver.pvt:808/pac...   \n",
       "1989-04-08 01:37:31.382  wadors:http://amc-tensor1.ucdenver.pvt:808/pac...   \n",
       "1989-04-08 01:37:36.632  wadors:http://amc-tensor1.ucdenver.pvt:808/pac...   \n",
       "1989-04-08 01:37:36.942  wadors:http://amc-tensor1.ucdenver.pvt:808/pac...   \n",
       "1989-04-08 01:37:37.352  wadors:http://amc-tensor1.ucdenver.pvt:808/pac...   \n",
       "\n",
       "                        ui_timestamp_date ui_timestamp_time  ui_timestamp_us  \n",
       "1989-04-07 04:15:42.232        2024-05-14     15:48:04.740Z     1.715702e+13  \n",
       "1989-04-07 04:15:47.082        2024-05-14     15:48:05.225Z     1.715702e+13  \n",
       "1989-04-07 04:42:43.521        2024-05-14     15:48:05.225Z     1.715702e+13  \n",
       "1989-04-07 04:42:51.856        2024-05-14     15:48:05.225Z     1.715702e+13  \n",
       "1989-04-07 04:43:00.196        2024-05-14     15:48:05.225Z     1.715702e+13  \n",
       "...                                   ...               ...              ...  \n",
       "1989-04-08 01:37:30.942        2024-05-14     17:56:15.611Z     1.715709e+13  \n",
       "1989-04-08 01:37:31.382        2024-05-14     17:56:15.655Z     1.715709e+13  \n",
       "1989-04-08 01:37:36.632        2024-05-14     17:56:16.180Z     1.715709e+13  \n",
       "1989-04-08 01:37:36.942        2024-05-14     17:56:16.211Z     1.715709e+13  \n",
       "1989-04-08 01:37:37.352        2024-05-14     17:56:16.252Z     1.715709e+13  \n",
       "\n",
       "[9474 rows x 14 columns]"
      ]
     },
     "execution_count": 4,
     "metadata": {},
     "output_type": "execute_result"
    }
   ],
   "source": [
    "eye.align_tracking_data(image_tracking=image_tracking, eye_tracking=eye_tracking)"
   ]
  },
  {
   "cell_type": "code",
   "execution_count": 91,
   "id": "c5a7ecb5-052c-4b14-bec1-34c29d2a01ee",
   "metadata": {},
   "outputs": [
    {
     "ename": "ValueError",
     "evalue": "Length of values (1) does not match length of index (9036)",
     "output_type": "error",
     "traceback": [
      "\u001b[0;31m---------------------------------------------------------------------------\u001b[0m",
      "\u001b[0;31mValueError\u001b[0m                                Traceback (most recent call last)",
      "Input \u001b[0;32mIn [91]\u001b[0m, in \u001b[0;36m<cell line: 1>\u001b[0;34m()\u001b[0m\n\u001b[0;32m----> 1\u001b[0m eye_tracking \u001b[38;5;241m=\u001b[39m \u001b[43mblink\u001b[49m\u001b[38;5;241;43m.\u001b[39;49m\u001b[43mformat_data\u001b[49m\u001b[43m(\u001b[49m\u001b[43meye_tracking\u001b[49m\u001b[43m,\u001b[49m\u001b[43m \u001b[49m\n\u001b[1;32m      2\u001b[0m \u001b[43m                                 \u001b[49m\u001b[43mscreen_size\u001b[49m\u001b[38;5;241;43m=\u001b[39;49m\u001b[43m(\u001b[49m\u001b[38;5;241;43m59.789\u001b[39;49m\u001b[43m,\u001b[49m\u001b[38;5;241;43m33.631\u001b[39;49m\u001b[43m)\u001b[49m\u001b[43m,\u001b[49m\u001b[43m \u001b[49m\u001b[38;5;66;43;03m# cm\u001b[39;49;00m\n\u001b[1;32m      3\u001b[0m \u001b[43m                                 \u001b[49m\u001b[43mscreen_res\u001b[49m\u001b[38;5;241;43m=\u001b[39;49m\u001b[43m(\u001b[49m\u001b[38;5;241;43m2560\u001b[39;49m\u001b[43m,\u001b[49m\u001b[38;5;241;43m1440\u001b[39;49m\u001b[43m)\u001b[49m\u001b[43m,\u001b[49m\u001b[43m \u001b[49m\u001b[38;5;66;43;03m# px\u001b[39;49;00m\n\u001b[1;32m      4\u001b[0m \u001b[43m                                 \u001b[49m\u001b[43mviewing_dist\u001b[49m\u001b[38;5;241;43m=\u001b[39;49m\u001b[38;5;241;43m82\u001b[39;49m\u001b[43m)\u001b[49m\n",
      "File \u001b[0;32m/tf/easl-eye/easl_eye/preprocess/eyes.py:16\u001b[0m, in \u001b[0;36mformat_data\u001b[0;34m(data, screen_size, screen_res, viewing_dist)\u001b[0m\n\u001b[1;32m     14\u001b[0m \u001b[38;5;28;01mfor\u001b[39;00m var \u001b[38;5;129;01min\u001b[39;00m [\u001b[38;5;124m'\u001b[39m\u001b[38;5;124mright_x\u001b[39m\u001b[38;5;124m'\u001b[39m, \u001b[38;5;124m'\u001b[39m\u001b[38;5;124mleft_x\u001b[39m\u001b[38;5;124m'\u001b[39m]:\n\u001b[1;32m     15\u001b[0m \tdata[\u001b[38;5;124m'\u001b[39m\u001b[38;5;132;01m{}\u001b[39;00m\u001b[38;5;124m_px\u001b[39m\u001b[38;5;124m'\u001b[39m\u001b[38;5;241m.\u001b[39mformat(var)] \u001b[38;5;241m=\u001b[39m data[var]\u001b[38;5;241m.\u001b[39mapply(\u001b[38;5;28;01mlambda\u001b[39;00m x: \u001b[38;5;28mfloat\u001b[39m(x) \u001b[38;5;241m*\u001b[39m screen_res[\u001b[38;5;241m0\u001b[39m])\n\u001b[0;32m---> 16\u001b[0m \t\u001b[43mdata\u001b[49m\u001b[43m[\u001b[49m\u001b[38;5;124;43m'\u001b[39;49m\u001b[38;5;132;43;01m{}\u001b[39;49;00m\u001b[38;5;124;43m_deg\u001b[39;49m\u001b[38;5;124;43m'\u001b[39;49m\u001b[38;5;241;43m.\u001b[39;49m\u001b[43mformat\u001b[49m\u001b[43m(\u001b[49m\u001b[43mvar\u001b[49m\u001b[43m)\u001b[49m\u001b[43m]\u001b[49m \u001b[38;5;241m=\u001b[39m pixel_to_degree(\n\u001b[1;32m     17\u001b[0m \t\tx\u001b[38;5;241m=\u001b[39mdata[\u001b[38;5;124m'\u001b[39m\u001b[38;5;132;01m{}\u001b[39;00m\u001b[38;5;124m_px\u001b[39m\u001b[38;5;124m'\u001b[39m\u001b[38;5;241m.\u001b[39mformat(var)]\u001b[38;5;241m.\u001b[39mvalues, \n\u001b[1;32m     18\u001b[0m \t\tviewing_dist\u001b[38;5;241m=\u001b[39mviewing_dist,\n\u001b[1;32m     19\u001b[0m \t\tscreen_size\u001b[38;5;241m=\u001b[39mscreen_size[\u001b[38;5;241m0\u001b[39m],\n\u001b[1;32m     20\u001b[0m \t\tscreen_res\u001b[38;5;241m=\u001b[39mscreen_res[\u001b[38;5;241m0\u001b[39m])\n\u001b[1;32m     22\u001b[0m \u001b[38;5;28;01mfor\u001b[39;00m var \u001b[38;5;129;01min\u001b[39;00m [\u001b[38;5;124m'\u001b[39m\u001b[38;5;124mright_y\u001b[39m\u001b[38;5;124m'\u001b[39m, \u001b[38;5;124m'\u001b[39m\u001b[38;5;124mleft_y\u001b[39m\u001b[38;5;124m'\u001b[39m]:\n\u001b[1;32m     23\u001b[0m \tdata[\u001b[38;5;124m'\u001b[39m\u001b[38;5;132;01m{}\u001b[39;00m\u001b[38;5;124m_px\u001b[39m\u001b[38;5;124m'\u001b[39m\u001b[38;5;241m.\u001b[39mformat(var)] \u001b[38;5;241m=\u001b[39m data[var]\u001b[38;5;241m.\u001b[39mapply(\u001b[38;5;28;01mlambda\u001b[39;00m x: \u001b[38;5;28mfloat\u001b[39m(x) \u001b[38;5;241m*\u001b[39m screen_res[\u001b[38;5;241m1\u001b[39m])\n",
      "File \u001b[0;32m/usr/local/lib/python3.8/dist-packages/pandas/core/frame.py:3950\u001b[0m, in \u001b[0;36mDataFrame.__setitem__\u001b[0;34m(self, key, value)\u001b[0m\n\u001b[1;32m   3947\u001b[0m     \u001b[38;5;28mself\u001b[39m\u001b[38;5;241m.\u001b[39m_setitem_array([key], value)\n\u001b[1;32m   3948\u001b[0m \u001b[38;5;28;01melse\u001b[39;00m:\n\u001b[1;32m   3949\u001b[0m     \u001b[38;5;66;03m# set column\u001b[39;00m\n\u001b[0;32m-> 3950\u001b[0m     \u001b[38;5;28;43mself\u001b[39;49m\u001b[38;5;241;43m.\u001b[39;49m\u001b[43m_set_item\u001b[49m\u001b[43m(\u001b[49m\u001b[43mkey\u001b[49m\u001b[43m,\u001b[49m\u001b[43m \u001b[49m\u001b[43mvalue\u001b[49m\u001b[43m)\u001b[49m\n",
      "File \u001b[0;32m/usr/local/lib/python3.8/dist-packages/pandas/core/frame.py:4143\u001b[0m, in \u001b[0;36mDataFrame._set_item\u001b[0;34m(self, key, value)\u001b[0m\n\u001b[1;32m   4133\u001b[0m \u001b[38;5;28;01mdef\u001b[39;00m \u001b[38;5;21m_set_item\u001b[39m(\u001b[38;5;28mself\u001b[39m, key, value) \u001b[38;5;241m-\u001b[39m\u001b[38;5;241m>\u001b[39m \u001b[38;5;28;01mNone\u001b[39;00m:\n\u001b[1;32m   4134\u001b[0m     \u001b[38;5;124;03m\"\"\"\u001b[39;00m\n\u001b[1;32m   4135\u001b[0m \u001b[38;5;124;03m    Add series to DataFrame in specified column.\u001b[39;00m\n\u001b[1;32m   4136\u001b[0m \n\u001b[0;32m   (...)\u001b[0m\n\u001b[1;32m   4141\u001b[0m \u001b[38;5;124;03m    ensure homogeneity.\u001b[39;00m\n\u001b[1;32m   4142\u001b[0m \u001b[38;5;124;03m    \"\"\"\u001b[39;00m\n\u001b[0;32m-> 4143\u001b[0m     value \u001b[38;5;241m=\u001b[39m \u001b[38;5;28;43mself\u001b[39;49m\u001b[38;5;241;43m.\u001b[39;49m\u001b[43m_sanitize_column\u001b[49m\u001b[43m(\u001b[49m\u001b[43mvalue\u001b[49m\u001b[43m)\u001b[49m\n\u001b[1;32m   4145\u001b[0m     \u001b[38;5;28;01mif\u001b[39;00m (\n\u001b[1;32m   4146\u001b[0m         key \u001b[38;5;129;01min\u001b[39;00m \u001b[38;5;28mself\u001b[39m\u001b[38;5;241m.\u001b[39mcolumns\n\u001b[1;32m   4147\u001b[0m         \u001b[38;5;129;01mand\u001b[39;00m value\u001b[38;5;241m.\u001b[39mndim \u001b[38;5;241m==\u001b[39m \u001b[38;5;241m1\u001b[39m\n\u001b[1;32m   4148\u001b[0m         \u001b[38;5;129;01mand\u001b[39;00m \u001b[38;5;129;01mnot\u001b[39;00m is_extension_array_dtype(value)\n\u001b[1;32m   4149\u001b[0m     ):\n\u001b[1;32m   4150\u001b[0m         \u001b[38;5;66;03m# broadcast across multiple columns if necessary\u001b[39;00m\n\u001b[1;32m   4151\u001b[0m         \u001b[38;5;28;01mif\u001b[39;00m \u001b[38;5;129;01mnot\u001b[39;00m \u001b[38;5;28mself\u001b[39m\u001b[38;5;241m.\u001b[39mcolumns\u001b[38;5;241m.\u001b[39mis_unique \u001b[38;5;129;01mor\u001b[39;00m \u001b[38;5;28misinstance\u001b[39m(\u001b[38;5;28mself\u001b[39m\u001b[38;5;241m.\u001b[39mcolumns, MultiIndex):\n",
      "File \u001b[0;32m/usr/local/lib/python3.8/dist-packages/pandas/core/frame.py:4870\u001b[0m, in \u001b[0;36mDataFrame._sanitize_column\u001b[0;34m(self, value)\u001b[0m\n\u001b[1;32m   4867\u001b[0m     \u001b[38;5;28;01mreturn\u001b[39;00m _reindex_for_setitem(Series(value), \u001b[38;5;28mself\u001b[39m\u001b[38;5;241m.\u001b[39mindex)\n\u001b[1;32m   4869\u001b[0m \u001b[38;5;28;01mif\u001b[39;00m is_list_like(value):\n\u001b[0;32m-> 4870\u001b[0m     \u001b[43mcom\u001b[49m\u001b[38;5;241;43m.\u001b[39;49m\u001b[43mrequire_length_match\u001b[49m\u001b[43m(\u001b[49m\u001b[43mvalue\u001b[49m\u001b[43m,\u001b[49m\u001b[43m \u001b[49m\u001b[38;5;28;43mself\u001b[39;49m\u001b[38;5;241;43m.\u001b[39;49m\u001b[43mindex\u001b[49m\u001b[43m)\u001b[49m\n\u001b[1;32m   4871\u001b[0m \u001b[38;5;28;01mreturn\u001b[39;00m sanitize_array(value, \u001b[38;5;28mself\u001b[39m\u001b[38;5;241m.\u001b[39mindex, copy\u001b[38;5;241m=\u001b[39m\u001b[38;5;28;01mTrue\u001b[39;00m, allow_2d\u001b[38;5;241m=\u001b[39m\u001b[38;5;28;01mTrue\u001b[39;00m)\n",
      "File \u001b[0;32m/usr/local/lib/python3.8/dist-packages/pandas/core/common.py:576\u001b[0m, in \u001b[0;36mrequire_length_match\u001b[0;34m(data, index)\u001b[0m\n\u001b[1;32m    572\u001b[0m \u001b[38;5;124;03m\"\"\"\u001b[39;00m\n\u001b[1;32m    573\u001b[0m \u001b[38;5;124;03mCheck the length of data matches the length of the index.\u001b[39;00m\n\u001b[1;32m    574\u001b[0m \u001b[38;5;124;03m\"\"\"\u001b[39;00m\n\u001b[1;32m    575\u001b[0m \u001b[38;5;28;01mif\u001b[39;00m \u001b[38;5;28mlen\u001b[39m(data) \u001b[38;5;241m!=\u001b[39m \u001b[38;5;28mlen\u001b[39m(index):\n\u001b[0;32m--> 576\u001b[0m     \u001b[38;5;28;01mraise\u001b[39;00m \u001b[38;5;167;01mValueError\u001b[39;00m(\n\u001b[1;32m    577\u001b[0m         \u001b[38;5;124m\"\u001b[39m\u001b[38;5;124mLength of values \u001b[39m\u001b[38;5;124m\"\u001b[39m\n\u001b[1;32m    578\u001b[0m         \u001b[38;5;124mf\u001b[39m\u001b[38;5;124m\"\u001b[39m\u001b[38;5;124m(\u001b[39m\u001b[38;5;132;01m{\u001b[39;00m\u001b[38;5;28mlen\u001b[39m(data)\u001b[38;5;132;01m}\u001b[39;00m\u001b[38;5;124m) \u001b[39m\u001b[38;5;124m\"\u001b[39m\n\u001b[1;32m    579\u001b[0m         \u001b[38;5;124m\"\u001b[39m\u001b[38;5;124mdoes not match length of index \u001b[39m\u001b[38;5;124m\"\u001b[39m\n\u001b[1;32m    580\u001b[0m         \u001b[38;5;124mf\u001b[39m\u001b[38;5;124m\"\u001b[39m\u001b[38;5;124m(\u001b[39m\u001b[38;5;132;01m{\u001b[39;00m\u001b[38;5;28mlen\u001b[39m(index)\u001b[38;5;132;01m}\u001b[39;00m\u001b[38;5;124m)\u001b[39m\u001b[38;5;124m\"\u001b[39m\n\u001b[1;32m    581\u001b[0m     )\n",
      "\u001b[0;31mValueError\u001b[0m: Length of values (1) does not match length of index (9036)"
     ]
    }
   ],
   "source": [
    "eye_tracking = blink.format_data(eye_tracking, \n",
    "                                 screen_size=(59.789,33.631), # cm\n",
    "                                 screen_res=(2560,1440), # px\n",
    "                                 viewing_dist=82) # cm"
   ]
  },
  {
   "cell_type": "code",
   "execution_count": 24,
   "id": "2247c56a-f8a0-40dc-b919-2057f1268233",
   "metadata": {},
   "outputs": [],
   "source": [
    "image_tracking['ui_timestamp_date'] = image_tracking['ui_timestamp'].apply(lambda s: s.split('T')[0])\n",
    "image_tracking['ui_timestamp_time'] = image_tracking['ui_timestamp'].apply(lambda s: s.split('T')[1])"
   ]
  },
  {
   "cell_type": "code",
   "execution_count": 25,
   "id": "bdcd57ff-403f-455f-bef0-afcf1ed484a1",
   "metadata": {},
   "outputs": [],
   "source": [
    "image_tracking = image_tracking.loc[image_tracking['ui_timestamp_date'] == '2024-05-14']"
   ]
  },
  {
   "cell_type": "code",
   "execution_count": 37,
   "id": "9f3ca611-4590-42a0-9a2e-7e8dfa4b9406",
   "metadata": {},
   "outputs": [],
   "source": [
    "from datetime import datetime\n",
    "\n",
    "def convert2us(date):\n",
    "    # Convert the date string to a datetime object\n",
    "    date = datetime.strptime(date, '%Y-%m-%dT%H:%M:%S.%fZ')\n",
    "\n",
    "    # Convert the datetime object to microseconds\n",
    "    microseconds = date.timestamp() * 1e4\n",
    "    return microseconds\n",
    "\n",
    "image_tracking['ui_timestamp_us'] = image_tracking['ui_timestamp'].apply(convert2us)"
   ]
  },
  {
   "cell_type": "code",
   "execution_count": 39,
   "id": "8188500e-925e-4574-b900-41c7f84767ec",
   "metadata": {},
   "outputs": [
    {
     "data": {
      "text/plain": [
       "76915120.0"
      ]
     },
     "execution_count": 39,
     "metadata": {},
     "output_type": "execute_result"
    }
   ],
   "source": [
    "max(image_tracking.ui_timestamp_us) - min(image_tracking.ui_timestamp_us)"
   ]
  },
  {
   "cell_type": "code",
   "execution_count": 40,
   "id": "c41e868e-dcef-4f56-bc4e-ff0faf467b4e",
   "metadata": {},
   "outputs": [
    {
     "data": {
      "text/plain": [
       "75294021"
      ]
     },
     "execution_count": 40,
     "metadata": {},
     "output_type": "execute_result"
    }
   ],
   "source": [
    "max(eye_tracking.timestamp_hardware) - min(eye_tracking.timestamp_hardware)"
   ]
  },
  {
   "cell_type": "code",
   "execution_count": 41,
   "id": "a469ebd2-222c-4c26-b191-c315948f2318",
   "metadata": {},
   "outputs": [
    {
     "data": {
      "text/plain": [
       "75293831"
      ]
     },
     "execution_count": 41,
     "metadata": {},
     "output_type": "execute_result"
    }
   ],
   "source": [
    "max(eye_tracking.timestamp_system) - min(eye_tracking.timestamp_system)"
   ]
  },
  {
   "cell_type": "code",
   "execution_count": 43,
   "id": "cc546039-072a-45ea-a07f-207e8a05047b",
   "metadata": {},
   "outputs": [
    {
     "data": {
      "text/plain": [
       "0.02107646714976197"
      ]
     },
     "execution_count": 43,
     "metadata": {},
     "output_type": "execute_result"
    }
   ],
   "source": [
    "(76915120.0 - 75294021) / 76915120.0"
   ]
  },
  {
   "cell_type": "code",
   "execution_count": 48,
   "id": "e090d2ff-5e70-4926-8683-8fa0730c0129",
   "metadata": {},
   "outputs": [
    {
     "data": {
      "text/plain": [
       "1.0000000979684713"
      ]
     },
     "execution_count": 48,
     "metadata": {},
     "output_type": "execute_result"
    }
   ],
   "source": [
    "(max(image_tracking.ui_timestamp_us) - max(eye_tracking.timestamp_system)) / (min(image_tracking.ui_timestamp_us) - min(eye_tracking.timestamp_system))"
   ]
  },
  {
   "cell_type": "code",
   "execution_count": 53,
   "id": "abfa4d05-ecfd-4b2f-a73e-ccfb3d6f4c32",
   "metadata": {},
   "outputs": [
    {
     "data": {
      "text/plain": [
       "608002657352.0"
      ]
     },
     "execution_count": 53,
     "metadata": {},
     "output_type": "execute_result"
    }
   ],
   "source": [
    "max(image_tracking.adjusted_timestamp)"
   ]
  },
  {
   "cell_type": "code",
   "execution_count": 51,
   "id": "4824148b-6607-4b92-8f30-317615a4a678",
   "metadata": {},
   "outputs": [],
   "source": [
    "image_tracking['adjusted_timestamp'] = image_tracking['ui_timestamp_us'].apply(lambda t: t - (max(image_tracking.ui_timestamp_us) - max(eye_tracking.timestamp_system)))"
   ]
  },
  {
   "cell_type": "code",
   "execution_count": 58,
   "id": "72be1947-8c4e-4dc8-a874-31853264d13c",
   "metadata": {},
   "outputs": [],
   "source": [
    "image_tracking['adjusted_timestamp'] = pd.to_datetime(image_tracking['adjusted_timestamp'], unit='ms')\n",
    "image_tracking.set_index('adjusted_timestamp', inplace=True)"
   ]
  },
  {
   "cell_type": "code",
   "execution_count": 59,
   "id": "7bc67089-2609-462a-9b9e-388bdaa2d160",
   "metadata": {},
   "outputs": [
    {
     "data": {
      "text/html": [
       "<div>\n",
       "<style scoped>\n",
       "    .dataframe tbody tr th:only-of-type {\n",
       "        vertical-align: middle;\n",
       "    }\n",
       "\n",
       "    .dataframe tbody tr th {\n",
       "        vertical-align: top;\n",
       "    }\n",
       "\n",
       "    .dataframe thead th {\n",
       "        text-align: right;\n",
       "    }\n",
       "</style>\n",
       "<table border=\"1\" class=\"dataframe\">\n",
       "  <thead>\n",
       "    <tr style=\"text-align: right;\">\n",
       "      <th></th>\n",
       "      <th>id</th>\n",
       "      <th>created_at</th>\n",
       "      <th>updated_at</th>\n",
       "      <th>sessionID</th>\n",
       "      <th>ui_timestamp</th>\n",
       "      <th>current_uid</th>\n",
       "      <th>ui_timestamp_date</th>\n",
       "      <th>ui_timestamp_time</th>\n",
       "      <th>ui_timestamp_us</th>\n",
       "    </tr>\n",
       "    <tr>\n",
       "      <th>adjusted_timestamp</th>\n",
       "      <th></th>\n",
       "      <th></th>\n",
       "      <th></th>\n",
       "      <th></th>\n",
       "      <th></th>\n",
       "      <th></th>\n",
       "      <th></th>\n",
       "      <th></th>\n",
       "      <th></th>\n",
       "    </tr>\n",
       "  </thead>\n",
       "  <tbody>\n",
       "    <tr>\n",
       "      <th>1989-04-07 04:15:42.232</th>\n",
       "      <td>4</td>\n",
       "      <td>None</td>\n",
       "      <td>None</td>\n",
       "      <td>eyetracking-test-1</td>\n",
       "      <td>2024-05-14T15:48:04.740Z</td>\n",
       "      <td>wadors:http://amc-tensor1.ucdenver.pvt:808/pac...</td>\n",
       "      <td>2024-05-14</td>\n",
       "      <td>15:48:04.740Z</td>\n",
       "      <td>1.715702e+13</td>\n",
       "    </tr>\n",
       "    <tr>\n",
       "      <th>1989-04-07 04:15:47.082</th>\n",
       "      <td>5</td>\n",
       "      <td>None</td>\n",
       "      <td>None</td>\n",
       "      <td>eyetracking-test-1</td>\n",
       "      <td>2024-05-14T15:48:05.225Z</td>\n",
       "      <td>wadors:http://amc-tensor1.ucdenver.pvt:808/pac...</td>\n",
       "      <td>2024-05-14</td>\n",
       "      <td>15:48:05.225Z</td>\n",
       "      <td>1.715702e+13</td>\n",
       "    </tr>\n",
       "    <tr>\n",
       "      <th>1989-04-07 04:46:21.892</th>\n",
       "      <td>6</td>\n",
       "      <td>None</td>\n",
       "      <td>None</td>\n",
       "      <td>eyetracking-test-1</td>\n",
       "      <td>2024-05-14T15:51:08.706Z</td>\n",
       "      <td>wadors:http://amc-tensor1.ucdenver.pvt:808/pac...</td>\n",
       "      <td>2024-05-14</td>\n",
       "      <td>15:51:08.706Z</td>\n",
       "      <td>1.715702e+13</td>\n",
       "    </tr>\n",
       "    <tr>\n",
       "      <th>1989-04-07 04:46:24.372</th>\n",
       "      <td>7</td>\n",
       "      <td>None</td>\n",
       "      <td>None</td>\n",
       "      <td>eyetracking-test-1</td>\n",
       "      <td>2024-05-14T15:51:08.954Z</td>\n",
       "      <td>wadors:http://amc-tensor1.ucdenver.pvt:808/pac...</td>\n",
       "      <td>2024-05-14</td>\n",
       "      <td>15:51:08.954Z</td>\n",
       "      <td>1.715702e+13</td>\n",
       "    </tr>\n",
       "    <tr>\n",
       "      <th>1989-04-07 04:46:26.252</th>\n",
       "      <td>8</td>\n",
       "      <td>None</td>\n",
       "      <td>None</td>\n",
       "      <td>eyetracking-test-1</td>\n",
       "      <td>2024-05-14T15:51:09.142Z</td>\n",
       "      <td>wadors:http://amc-tensor1.ucdenver.pvt:808/pac...</td>\n",
       "      <td>2024-05-14</td>\n",
       "      <td>15:51:09.142Z</td>\n",
       "      <td>1.715702e+13</td>\n",
       "    </tr>\n",
       "    <tr>\n",
       "      <th>...</th>\n",
       "      <td>...</td>\n",
       "      <td>...</td>\n",
       "      <td>...</td>\n",
       "      <td>...</td>\n",
       "      <td>...</td>\n",
       "      <td>...</td>\n",
       "      <td>...</td>\n",
       "      <td>...</td>\n",
       "      <td>...</td>\n",
       "    </tr>\n",
       "    <tr>\n",
       "      <th>1989-04-08 01:37:30.942</th>\n",
       "      <td>439</td>\n",
       "      <td>None</td>\n",
       "      <td>None</td>\n",
       "      <td>eyetracking-test-1</td>\n",
       "      <td>2024-05-14T17:56:15.611Z</td>\n",
       "      <td>wadors:http://amc-tensor1.ucdenver.pvt:808/pac...</td>\n",
       "      <td>2024-05-14</td>\n",
       "      <td>17:56:15.611Z</td>\n",
       "      <td>1.715709e+13</td>\n",
       "    </tr>\n",
       "    <tr>\n",
       "      <th>1989-04-08 01:37:31.382</th>\n",
       "      <td>440</td>\n",
       "      <td>None</td>\n",
       "      <td>None</td>\n",
       "      <td>eyetracking-test-1</td>\n",
       "      <td>2024-05-14T17:56:15.655Z</td>\n",
       "      <td>wadors:http://amc-tensor1.ucdenver.pvt:808/pac...</td>\n",
       "      <td>2024-05-14</td>\n",
       "      <td>17:56:15.655Z</td>\n",
       "      <td>1.715709e+13</td>\n",
       "    </tr>\n",
       "    <tr>\n",
       "      <th>1989-04-08 01:37:36.632</th>\n",
       "      <td>441</td>\n",
       "      <td>None</td>\n",
       "      <td>None</td>\n",
       "      <td>eyetracking-test-1</td>\n",
       "      <td>2024-05-14T17:56:16.180Z</td>\n",
       "      <td>wadors:http://amc-tensor1.ucdenver.pvt:808/pac...</td>\n",
       "      <td>2024-05-14</td>\n",
       "      <td>17:56:16.180Z</td>\n",
       "      <td>1.715709e+13</td>\n",
       "    </tr>\n",
       "    <tr>\n",
       "      <th>1989-04-08 01:37:36.942</th>\n",
       "      <td>442</td>\n",
       "      <td>None</td>\n",
       "      <td>None</td>\n",
       "      <td>eyetracking-test-1</td>\n",
       "      <td>2024-05-14T17:56:16.211Z</td>\n",
       "      <td>wadors:http://amc-tensor1.ucdenver.pvt:808/pac...</td>\n",
       "      <td>2024-05-14</td>\n",
       "      <td>17:56:16.211Z</td>\n",
       "      <td>1.715709e+13</td>\n",
       "    </tr>\n",
       "    <tr>\n",
       "      <th>1989-04-08 01:37:37.352</th>\n",
       "      <td>443</td>\n",
       "      <td>None</td>\n",
       "      <td>None</td>\n",
       "      <td>eyetracking-test-1</td>\n",
       "      <td>2024-05-14T17:56:16.252Z</td>\n",
       "      <td>wadors:http://amc-tensor1.ucdenver.pvt:808/pac...</td>\n",
       "      <td>2024-05-14</td>\n",
       "      <td>17:56:16.252Z</td>\n",
       "      <td>1.715709e+13</td>\n",
       "    </tr>\n",
       "  </tbody>\n",
       "</table>\n",
       "<p>440 rows × 9 columns</p>\n",
       "</div>"
      ],
      "text/plain": [
       "                          id created_at updated_at           sessionID  \\\n",
       "adjusted_timestamp                                                       \n",
       "1989-04-07 04:15:42.232    4       None       None  eyetracking-test-1   \n",
       "1989-04-07 04:15:47.082    5       None       None  eyetracking-test-1   \n",
       "1989-04-07 04:46:21.892    6       None       None  eyetracking-test-1   \n",
       "1989-04-07 04:46:24.372    7       None       None  eyetracking-test-1   \n",
       "1989-04-07 04:46:26.252    8       None       None  eyetracking-test-1   \n",
       "...                      ...        ...        ...                 ...   \n",
       "1989-04-08 01:37:30.942  439       None       None  eyetracking-test-1   \n",
       "1989-04-08 01:37:31.382  440       None       None  eyetracking-test-1   \n",
       "1989-04-08 01:37:36.632  441       None       None  eyetracking-test-1   \n",
       "1989-04-08 01:37:36.942  442       None       None  eyetracking-test-1   \n",
       "1989-04-08 01:37:37.352  443       None       None  eyetracking-test-1   \n",
       "\n",
       "                                     ui_timestamp  \\\n",
       "adjusted_timestamp                                  \n",
       "1989-04-07 04:15:42.232  2024-05-14T15:48:04.740Z   \n",
       "1989-04-07 04:15:47.082  2024-05-14T15:48:05.225Z   \n",
       "1989-04-07 04:46:21.892  2024-05-14T15:51:08.706Z   \n",
       "1989-04-07 04:46:24.372  2024-05-14T15:51:08.954Z   \n",
       "1989-04-07 04:46:26.252  2024-05-14T15:51:09.142Z   \n",
       "...                                           ...   \n",
       "1989-04-08 01:37:30.942  2024-05-14T17:56:15.611Z   \n",
       "1989-04-08 01:37:31.382  2024-05-14T17:56:15.655Z   \n",
       "1989-04-08 01:37:36.632  2024-05-14T17:56:16.180Z   \n",
       "1989-04-08 01:37:36.942  2024-05-14T17:56:16.211Z   \n",
       "1989-04-08 01:37:37.352  2024-05-14T17:56:16.252Z   \n",
       "\n",
       "                                                               current_uid  \\\n",
       "adjusted_timestamp                                                           \n",
       "1989-04-07 04:15:42.232  wadors:http://amc-tensor1.ucdenver.pvt:808/pac...   \n",
       "1989-04-07 04:15:47.082  wadors:http://amc-tensor1.ucdenver.pvt:808/pac...   \n",
       "1989-04-07 04:46:21.892  wadors:http://amc-tensor1.ucdenver.pvt:808/pac...   \n",
       "1989-04-07 04:46:24.372  wadors:http://amc-tensor1.ucdenver.pvt:808/pac...   \n",
       "1989-04-07 04:46:26.252  wadors:http://amc-tensor1.ucdenver.pvt:808/pac...   \n",
       "...                                                                    ...   \n",
       "1989-04-08 01:37:30.942  wadors:http://amc-tensor1.ucdenver.pvt:808/pac...   \n",
       "1989-04-08 01:37:31.382  wadors:http://amc-tensor1.ucdenver.pvt:808/pac...   \n",
       "1989-04-08 01:37:36.632  wadors:http://amc-tensor1.ucdenver.pvt:808/pac...   \n",
       "1989-04-08 01:37:36.942  wadors:http://amc-tensor1.ucdenver.pvt:808/pac...   \n",
       "1989-04-08 01:37:37.352  wadors:http://amc-tensor1.ucdenver.pvt:808/pac...   \n",
       "\n",
       "                        ui_timestamp_date ui_timestamp_time  ui_timestamp_us  \n",
       "adjusted_timestamp                                                            \n",
       "1989-04-07 04:15:42.232        2024-05-14     15:48:04.740Z     1.715702e+13  \n",
       "1989-04-07 04:15:47.082        2024-05-14     15:48:05.225Z     1.715702e+13  \n",
       "1989-04-07 04:46:21.892        2024-05-14     15:51:08.706Z     1.715702e+13  \n",
       "1989-04-07 04:46:24.372        2024-05-14     15:51:08.954Z     1.715702e+13  \n",
       "1989-04-07 04:46:26.252        2024-05-14     15:51:09.142Z     1.715702e+13  \n",
       "...                                   ...               ...              ...  \n",
       "1989-04-08 01:37:30.942        2024-05-14     17:56:15.611Z     1.715709e+13  \n",
       "1989-04-08 01:37:31.382        2024-05-14     17:56:15.655Z     1.715709e+13  \n",
       "1989-04-08 01:37:36.632        2024-05-14     17:56:16.180Z     1.715709e+13  \n",
       "1989-04-08 01:37:36.942        2024-05-14     17:56:16.211Z     1.715709e+13  \n",
       "1989-04-08 01:37:37.352        2024-05-14     17:56:16.252Z     1.715709e+13  \n",
       "\n",
       "[440 rows x 9 columns]"
      ]
     },
     "execution_count": 59,
     "metadata": {},
     "output_type": "execute_result"
    }
   ],
   "source": [
    "image_tracking"
   ]
  },
  {
   "cell_type": "code",
   "execution_count": 61,
   "id": "4e1588b1-d97b-4560-b3f8-7da295a86b08",
   "metadata": {},
   "outputs": [],
   "source": [
    "eye_tracking['timestamp_system'] = pd.to_datetime(eye_tracking['timestamp_system'], unit='ms')\n",
    "eye_tracking.set_index('timestamp_system', inplace=True)"
   ]
  },
  {
   "cell_type": "code",
   "execution_count": 61,
   "id": "1f8d0a7b-8bc9-40e1-b03b-ada7fe5d1a41",
   "metadata": {},
   "outputs": [],
   "source": [
    "aligned_dataset = eye_tracking.join(image_tracking, how='outer').fillna(method='ffill')"
   ]
  },
  {
   "cell_type": "code",
   "execution_count": 62,
   "id": "134d6240-f555-4695-b7e8-ffa7a077f80d",
   "metadata": {},
   "outputs": [
    {
     "data": {
      "text/plain": [
       "'http://amc-tensor1.ucdenver.pvt:808/pacs/dicom-web/studies/1.2.840.114350.2.19.2.798268.2.63361197.1/series/1.3.12.2.1107.5.2.30.26451.2016110714164943896821018.0.0.0/instances/1.3.12.2.1107.5.2.30.26451.201611071420505220321419/frames/1'"
      ]
     },
     "execution_count": 62,
     "metadata": {},
     "output_type": "execute_result"
    }
   ],
   "source": [
    "aligned_dataset.current_uid[100].replace('wadors:', '')"
   ]
  },
  {
   "cell_type": "code",
   "execution_count": 63,
   "id": "670e32be-e9bc-4f45-a71c-9b10123451a9",
   "metadata": {},
   "outputs": [],
   "source": [
    "import requests\n",
    "import pydicom\n",
    "from pydicom.filebase import DicomBytesIO\n",
    "\n",
    "url = aligned_dataset.current_uid[100].replace('wadors:', '')\n",
    "# Send a GET request to the URL\n",
    "response = requests.get(url)"
   ]
  },
  {
   "cell_type": "code",
   "execution_count": 64,
   "id": "72b0c359-ac26-40ec-a585-a382411b20fc",
   "metadata": {},
   "outputs": [
    {
     "data": {
      "text/plain": [
       "<Response [200]>"
      ]
     },
     "execution_count": 64,
     "metadata": {},
     "output_type": "execute_result"
    }
   ],
   "source": [
    "response"
   ]
  },
  {
   "cell_type": "code",
   "execution_count": 65,
   "id": "fec0417f-8fc2-4957-9e49-bddbe701353b",
   "metadata": {},
   "outputs": [],
   "source": [
    "dicom_file = DicomBytesIO(response.content)\n",
    "dicom_dataset = pydicom.dcmread(dicom_file, force=True)"
   ]
  },
  {
   "cell_type": "code",
   "execution_count": 107,
   "id": "78145fc5-5d1f-4ea6-b4ff-c9683e7081c2",
   "metadata": {},
   "outputs": [],
   "source": [
    "content = \"\\r\\n\".join(str(response.content).split('\\\\r\\\\n')[1:]).encode()"
   ]
  },
  {
   "cell_type": "code",
   "execution_count": 111,
   "id": "f39b3837-2ddf-4759-91c9-add999ffe488",
   "metadata": {},
   "outputs": [],
   "source": [
    "dicom_file = DicomBytesIO(content)\n",
    "dicom_dataset = pydicom.dcmread(dicom_file, force=True)"
   ]
  },
  {
   "cell_type": "code",
   "execution_count": 79,
   "id": "e747d992-a4cc-476c-8230-04ed290f74d9",
   "metadata": {},
   "outputs": [],
   "source": [
    "dicom_dataset.decode()"
   ]
  },
  {
   "cell_type": "code",
   "execution_count": 86,
   "id": "3ed0deaa-631a-489d-a96d-bf52c5471046",
   "metadata": {},
   "outputs": [
    {
     "name": "stderr",
     "output_type": "stream",
     "text": [
      "<ipython-input-86-8bbad66ccce7>:1: DeprecationWarning: invalid escape sequence '\\\u0000'\n",
      "  decoded_text = response.content.decode('unicode_escape')\n"
     ]
    }
   ],
   "source": [
    "decoded_text = response.content.decode('unicode_escape')"
   ]
  },
  {
   "cell_type": "code",
   "execution_count": 89,
   "id": "f41b859c-9780-4da0-9811-64ed62f93060",
   "metadata": {},
   "outputs": [
    {
     "ename": "ValueError",
     "evalue": "embedded null byte",
     "output_type": "error",
     "traceback": [
      "\u001b[0;31m---------------------------------------------------------------------------\u001b[0m",
      "\u001b[0;31mValueError\u001b[0m                                Traceback (most recent call last)",
      "Input \u001b[0;32mIn [89]\u001b[0m, in \u001b[0;36m<cell line: 1>\u001b[0;34m()\u001b[0m\n\u001b[0;32m----> 1\u001b[0m \u001b[43mpydicom\u001b[49m\u001b[38;5;241;43m.\u001b[39;49m\u001b[43mdcmread\u001b[49m\u001b[43m(\u001b[49m\u001b[43mdecoded_text\u001b[49m\u001b[43m,\u001b[49m\u001b[43m \u001b[49m\u001b[43mforce\u001b[49m\u001b[38;5;241;43m=\u001b[39;49m\u001b[38;5;28;43;01mTrue\u001b[39;49;00m\u001b[43m)\u001b[49m\n",
      "File \u001b[0;32m/usr/local/lib/python3.8/dist-packages/pydicom/filereader.py:1002\u001b[0m, in \u001b[0;36mdcmread\u001b[0;34m(fp, defer_size, stop_before_pixels, force, specific_tags)\u001b[0m\n\u001b[1;32m   1000\u001b[0m     caller_owns_file \u001b[38;5;241m=\u001b[39m \u001b[38;5;28;01mFalse\u001b[39;00m\n\u001b[1;32m   1001\u001b[0m     logger\u001b[38;5;241m.\u001b[39mdebug(\u001b[38;5;124m\"\u001b[39m\u001b[38;5;124mReading file \u001b[39m\u001b[38;5;124m'\u001b[39m\u001b[38;5;132;01m{0}\u001b[39;00m\u001b[38;5;124m'\u001b[39m\u001b[38;5;124m\"\u001b[39m\u001b[38;5;241m.\u001b[39mformat(fp))\n\u001b[0;32m-> 1002\u001b[0m     fp \u001b[38;5;241m=\u001b[39m \u001b[38;5;28;43mopen\u001b[39;49m\u001b[43m(\u001b[49m\u001b[43mfp\u001b[49m\u001b[43m,\u001b[49m\u001b[43m \u001b[49m\u001b[38;5;124;43m'\u001b[39;49m\u001b[38;5;124;43mrb\u001b[39;49m\u001b[38;5;124;43m'\u001b[39;49m\u001b[43m)\u001b[49m\n\u001b[1;32m   1003\u001b[0m \u001b[38;5;28;01melif\u001b[39;00m fp \u001b[38;5;129;01mis\u001b[39;00m \u001b[38;5;28;01mNone\u001b[39;00m \u001b[38;5;129;01mor\u001b[39;00m \u001b[38;5;129;01mnot\u001b[39;00m \u001b[38;5;28mhasattr\u001b[39m(fp, \u001b[38;5;124m\"\u001b[39m\u001b[38;5;124mread\u001b[39m\u001b[38;5;124m\"\u001b[39m) \u001b[38;5;129;01mor\u001b[39;00m \u001b[38;5;129;01mnot\u001b[39;00m \u001b[38;5;28mhasattr\u001b[39m(fp, \u001b[38;5;124m\"\u001b[39m\u001b[38;5;124mseek\u001b[39m\u001b[38;5;124m\"\u001b[39m):\n\u001b[1;32m   1004\u001b[0m     \u001b[38;5;28;01mraise\u001b[39;00m \u001b[38;5;167;01mTypeError\u001b[39;00m(\u001b[38;5;124m\"\u001b[39m\u001b[38;5;124mdcmread: Expected a file path or a file-like, \u001b[39m\u001b[38;5;124m\"\u001b[39m\n\u001b[1;32m   1005\u001b[0m                     \u001b[38;5;124m\"\u001b[39m\u001b[38;5;124mbut got \u001b[39m\u001b[38;5;124m\"\u001b[39m \u001b[38;5;241m+\u001b[39m \u001b[38;5;28mtype\u001b[39m(fp)\u001b[38;5;241m.\u001b[39m\u001b[38;5;18m__name__\u001b[39m)\n",
      "\u001b[0;31mValueError\u001b[0m: embedded null byte"
     ]
    }
   ],
   "source": [
    "pydicom.dcmread(decoded_text, force=True)"
   ]
  },
  {
   "cell_type": "code",
   "execution_count": 66,
   "id": "d539ace4-1f9e-492f-be1c-ebec3363a7c7",
   "metadata": {},
   "outputs": [],
   "source": [
    "elems = [e for e in dicom_dataset.elements()]"
   ]
  },
  {
   "cell_type": "code",
   "execution_count": 73,
   "id": "e0bda4fb-f455-45f1-8cdf-66b8f9963b42",
   "metadata": {},
   "outputs": [],
   "source": [
    "tag = (0x2d2d, 0x6565)"
   ]
  },
  {
   "cell_type": "code",
   "execution_count": 74,
   "id": "95d1065f-b14c-48d8-b77d-a89d8c3184a6",
   "metadata": {},
   "outputs": [],
   "source": [
    "# Get the array of elements\n",
    "array = dicom_dataset[tag].value\n",
    "\n",
    "elems = [e for e in array]"
   ]
  },
  {
   "cell_type": "code",
   "execution_count": 90,
   "id": "e759f1ba-79ea-4324-9c9a-8565ef34de07",
   "metadata": {},
   "outputs": [
    {
     "ename": "ValueError",
     "evalue": "could not convert string to float: '(0.26330816745758057'",
     "output_type": "error",
     "traceback": [
      "\u001b[0;31m---------------------------------------------------------------------------\u001b[0m",
      "\u001b[0;31mValueError\u001b[0m                                Traceback (most recent call last)",
      "Input \u001b[0;32mIn [90]\u001b[0m, in \u001b[0;36m<cell line: 1>\u001b[0;34m()\u001b[0m\n\u001b[0;32m----> 1\u001b[0m \u001b[43mraw_gaze_plot\u001b[49m\u001b[43m(\u001b[49m\u001b[43meye_tracking\u001b[49m\u001b[43m)\u001b[49m\n",
      "File \u001b[0;32m/tf/easl-eye/easl_eye/viz.py:6\u001b[0m, in \u001b[0;36mraw_gaze_plot\u001b[0;34m(data)\u001b[0m\n\u001b[1;32m      3\u001b[0m \u001b[38;5;28;01mimport\u001b[39;00m \u001b[38;5;21;01mcv2\u001b[39;00m\n\u001b[1;32m      4\u001b[0m \u001b[38;5;28;01mimport\u001b[39;00m \u001b[38;5;21;01measl_eye\u001b[39;00m \u001b[38;5;28;01mas\u001b[39;00m \u001b[38;5;21;01meye\u001b[39;00m\n\u001b[0;32m----> 6\u001b[0m \u001b[38;5;28;01mdef\u001b[39;00m \u001b[38;5;21mraw_gaze_plot\u001b[39m(data):\n\u001b[1;32m      7\u001b[0m \tdf \u001b[38;5;241m=\u001b[39m pd\u001b[38;5;241m.\u001b[39mDataFrame({\n\u001b[1;32m      8\u001b[0m \t\t\u001b[38;5;124m'\u001b[39m\u001b[38;5;124mX\u001b[39m\u001b[38;5;124m'\u001b[39m: data[\u001b[38;5;124m'\u001b[39m\u001b[38;5;124mright_x\u001b[39m\u001b[38;5;124m'\u001b[39m]\u001b[38;5;241m.\u001b[39mapply(\u001b[38;5;28mfloat\u001b[39m),\n\u001b[1;32m      9\u001b[0m \t\t\u001b[38;5;124m'\u001b[39m\u001b[38;5;124mY\u001b[39m\u001b[38;5;124m'\u001b[39m: data[\u001b[38;5;124m'\u001b[39m\u001b[38;5;124mright_y\u001b[39m\u001b[38;5;124m'\u001b[39m]\u001b[38;5;241m.\u001b[39mapply(\u001b[38;5;28mfloat\u001b[39m),\n\u001b[1;32m     10\u001b[0m \t})\n\u001b[1;32m     12\u001b[0m \t\u001b[38;5;66;03m# Create a scatter plot\u001b[39;00m\n",
      "File \u001b[0;32m/usr/local/lib/python3.8/dist-packages/pandas/core/series.py:4630\u001b[0m, in \u001b[0;36mSeries.apply\u001b[0;34m(self, func, convert_dtype, args, **kwargs)\u001b[0m\n\u001b[1;32m   4520\u001b[0m \u001b[38;5;28;01mdef\u001b[39;00m \u001b[38;5;21mapply\u001b[39m(\n\u001b[1;32m   4521\u001b[0m     \u001b[38;5;28mself\u001b[39m,\n\u001b[1;32m   4522\u001b[0m     func: AggFuncType,\n\u001b[0;32m   (...)\u001b[0m\n\u001b[1;32m   4525\u001b[0m     \u001b[38;5;241m*\u001b[39m\u001b[38;5;241m*\u001b[39mkwargs,\n\u001b[1;32m   4526\u001b[0m ) \u001b[38;5;241m-\u001b[39m\u001b[38;5;241m>\u001b[39m DataFrame \u001b[38;5;241m|\u001b[39m Series:\n\u001b[1;32m   4527\u001b[0m     \u001b[38;5;124;03m\"\"\"\u001b[39;00m\n\u001b[1;32m   4528\u001b[0m \u001b[38;5;124;03m    Invoke function on values of Series.\u001b[39;00m\n\u001b[1;32m   4529\u001b[0m \n\u001b[0;32m   (...)\u001b[0m\n\u001b[1;32m   4628\u001b[0m \u001b[38;5;124;03m    dtype: float64\u001b[39;00m\n\u001b[1;32m   4629\u001b[0m \u001b[38;5;124;03m    \"\"\"\u001b[39;00m\n\u001b[0;32m-> 4630\u001b[0m     \u001b[38;5;28;01mreturn\u001b[39;00m \u001b[43mSeriesApply\u001b[49m\u001b[43m(\u001b[49m\u001b[38;5;28;43mself\u001b[39;49m\u001b[43m,\u001b[49m\u001b[43m \u001b[49m\u001b[43mfunc\u001b[49m\u001b[43m,\u001b[49m\u001b[43m \u001b[49m\u001b[43mconvert_dtype\u001b[49m\u001b[43m,\u001b[49m\u001b[43m \u001b[49m\u001b[43margs\u001b[49m\u001b[43m,\u001b[49m\u001b[43m \u001b[49m\u001b[43mkwargs\u001b[49m\u001b[43m)\u001b[49m\u001b[38;5;241;43m.\u001b[39;49m\u001b[43mapply\u001b[49m\u001b[43m(\u001b[49m\u001b[43m)\u001b[49m\n",
      "File \u001b[0;32m/usr/local/lib/python3.8/dist-packages/pandas/core/apply.py:1025\u001b[0m, in \u001b[0;36mSeriesApply.apply\u001b[0;34m(self)\u001b[0m\n\u001b[1;32m   1022\u001b[0m     \u001b[38;5;28;01mreturn\u001b[39;00m \u001b[38;5;28mself\u001b[39m\u001b[38;5;241m.\u001b[39mapply_str()\n\u001b[1;32m   1024\u001b[0m \u001b[38;5;66;03m# self.f is Callable\u001b[39;00m\n\u001b[0;32m-> 1025\u001b[0m \u001b[38;5;28;01mreturn\u001b[39;00m \u001b[38;5;28;43mself\u001b[39;49m\u001b[38;5;241;43m.\u001b[39;49m\u001b[43mapply_standard\u001b[49m\u001b[43m(\u001b[49m\u001b[43m)\u001b[49m\n",
      "File \u001b[0;32m/usr/local/lib/python3.8/dist-packages/pandas/core/apply.py:1076\u001b[0m, in \u001b[0;36mSeriesApply.apply_standard\u001b[0;34m(self)\u001b[0m\n\u001b[1;32m   1074\u001b[0m     \u001b[38;5;28;01melse\u001b[39;00m:\n\u001b[1;32m   1075\u001b[0m         values \u001b[38;5;241m=\u001b[39m obj\u001b[38;5;241m.\u001b[39mastype(\u001b[38;5;28mobject\u001b[39m)\u001b[38;5;241m.\u001b[39m_values\n\u001b[0;32m-> 1076\u001b[0m         mapped \u001b[38;5;241m=\u001b[39m \u001b[43mlib\u001b[49m\u001b[38;5;241;43m.\u001b[39;49m\u001b[43mmap_infer\u001b[49m\u001b[43m(\u001b[49m\n\u001b[1;32m   1077\u001b[0m \u001b[43m            \u001b[49m\u001b[43mvalues\u001b[49m\u001b[43m,\u001b[49m\n\u001b[1;32m   1078\u001b[0m \u001b[43m            \u001b[49m\u001b[43mf\u001b[49m\u001b[43m,\u001b[49m\n\u001b[1;32m   1079\u001b[0m \u001b[43m            \u001b[49m\u001b[43mconvert\u001b[49m\u001b[38;5;241;43m=\u001b[39;49m\u001b[38;5;28;43mself\u001b[39;49m\u001b[38;5;241;43m.\u001b[39;49m\u001b[43mconvert_dtype\u001b[49m\u001b[43m,\u001b[49m\n\u001b[1;32m   1080\u001b[0m \u001b[43m        \u001b[49m\u001b[43m)\u001b[49m\n\u001b[1;32m   1082\u001b[0m \u001b[38;5;28;01mif\u001b[39;00m \u001b[38;5;28mlen\u001b[39m(mapped) \u001b[38;5;129;01mand\u001b[39;00m \u001b[38;5;28misinstance\u001b[39m(mapped[\u001b[38;5;241m0\u001b[39m], ABCSeries):\n\u001b[1;32m   1083\u001b[0m     \u001b[38;5;66;03m# GH#43986 Need to do list(mapped) in order to get treated as nested\u001b[39;00m\n\u001b[1;32m   1084\u001b[0m     \u001b[38;5;66;03m#  See also GH#25959 regarding EA support\u001b[39;00m\n\u001b[1;32m   1085\u001b[0m     \u001b[38;5;28;01mreturn\u001b[39;00m obj\u001b[38;5;241m.\u001b[39m_constructor_expanddim(\u001b[38;5;28mlist\u001b[39m(mapped), index\u001b[38;5;241m=\u001b[39mobj\u001b[38;5;241m.\u001b[39mindex)\n",
      "File \u001b[0;32m/usr/local/lib/python3.8/dist-packages/pandas/_libs/lib.pyx:2834\u001b[0m, in \u001b[0;36mpandas._libs.lib.map_infer\u001b[0;34m()\u001b[0m\n",
      "\u001b[0;31mValueError\u001b[0m: could not convert string to float: '(0.26330816745758057'"
     ]
    }
   ],
   "source": [
    "raw_gaze_plot(eye_tracking)"
   ]
  },
  {
   "cell_type": "code",
   "execution_count": 54,
   "id": "98878c48-fe63-434a-9c2c-96b37dc42916",
   "metadata": {},
   "outputs": [],
   "source": [
    "import matplotlib.pyplot as plt\n",
    "import numpy as np"
   ]
  },
  {
   "cell_type": "code",
   "execution_count": 59,
   "id": "9854c84a-b94b-40d5-8194-24d0f0fc4f94",
   "metadata": {},
   "outputs": [
    {
     "data": {
      "image/png": "[encoded data removed]",
      "text/plain": [
       "<Figure size 640x480 with 1 Axes>"
      ]
     },
     "metadata": {},
     "output_type": "display_data"
    }
   ],
   "source": [
    "plt.imshow(np.asarray(elems).reshape(1481, 406))\n",
    "plt.show()"
   ]
  },
  {
   "cell_type": "code",
   "execution_count": 56,
   "id": "8c0692cd-4f87-45ce-ab62-392797329ba7",
   "metadata": {},
   "outputs": [
    {
     "data": {
      "text/plain": [
       "<matplotlib.image.AxesImage at 0x7f2e69df9d30>"
      ]
     },
     "execution_count": 56,
     "metadata": {},
     "output_type": "execute_result"
    }
   ],
   "source": [
    "imgplot"
   ]
  },
  {
   "cell_type": "code",
   "execution_count": 35,
   "id": "a779bc35-6ccc-4512-a39c-ff1a4d1a3339",
   "metadata": {},
   "outputs": [],
   "source": [
    "import requests\n",
    "\n",
    "# URL of the Orthanc server\n",
    "orthanc_url = \"http://localhost:8042\"\n",
    "\n",
    "# Path to the DICOMweb API\n",
    "dicomweb_path = \"/dicom-web/servers/default\"\n",
    "\n",
    "# Path to the DICOM instance\n",
    "# Replace with the actual path to your DICOM instance\n",
    "instance_path = \"/studies/{studyUID}/series/{seriesUID}/instances/{instanceUID}\"\n",
    "\n",
    "# Construct the full URL\n",
    "url = orthanc_url + dicomweb_path + instance_path\n",
    "url ='http://amc-tensor1.ucdenver.pvt:808/pacs/dicom-web/studies/1.2.840.114350.2.19.2.798268.2.63361197.1/series/1.3.12.2.1107.5.2.30.26451.201611071353374953214894.0.0.0/instances/1.3.12.2.1107.5.2.30.26451.2016110713534636848814907'\n",
    "\n",
    "# Send a GET request to the server\n",
    "response = requests.get(url)\n",
    "\n",
    "# # The Orthanc identifier is in the 'ID' field of the JSON response\n",
    "# orthanc_id = response.json()['ID']\n",
    "\n",
    "# print(\"Orthanc ID:\", orthanc_id)\n"
   ]
  },
  {
   "cell_type": "code",
   "execution_count": 39,
   "id": "77ae656f-9e47-4e77-91d6-16dcb0f89016",
   "metadata": {},
   "outputs": [
    {
     "ename": "InvalidDicomError",
     "evalue": "File is missing DICOM File Meta Information header or the 'DICM' prefix is missing from the header. Use force=True to force reading.",
     "output_type": "error",
     "traceback": [
      "\u001b[0;31m---------------------------------------------------------------------------\u001b[0m",
      "\u001b[0;31mInvalidDicomError\u001b[0m                         Traceback (most recent call last)",
      "Input \u001b[0;32mIn [39]\u001b[0m, in \u001b[0;36m<cell line: 7>\u001b[0;34m()\u001b[0m\n\u001b[1;32m      4\u001b[0m bytes_io \u001b[38;5;241m=\u001b[39m io\u001b[38;5;241m.\u001b[39mBytesIO(binary_string)\n\u001b[1;32m      6\u001b[0m \u001b[38;5;66;03m# Read the DICOM file from the BytesIO object\u001b[39;00m\n\u001b[0;32m----> 7\u001b[0m ds \u001b[38;5;241m=\u001b[39m \u001b[43mpydicom\u001b[49m\u001b[38;5;241;43m.\u001b[39;49m\u001b[43mdcmread\u001b[49m\u001b[43m(\u001b[49m\u001b[43mbytes_io\u001b[49m\u001b[43m)\u001b[49m\n\u001b[1;32m      9\u001b[0m \u001b[38;5;66;03m# Now you can access the DICOM tags\u001b[39;00m\n\u001b[1;32m     10\u001b[0m \u001b[38;5;28mprint\u001b[39m(ds)\n",
      "File \u001b[0;32m/usr/local/lib/python3.8/dist-packages/pydicom/filereader.py:1030\u001b[0m, in \u001b[0;36mdcmread\u001b[0;34m(fp, defer_size, stop_before_pixels, force, specific_tags)\u001b[0m\n\u001b[1;32m   1028\u001b[0m     stop_when \u001b[38;5;241m=\u001b[39m _at_pixel_data\n\u001b[1;32m   1029\u001b[0m \u001b[38;5;28;01mtry\u001b[39;00m:\n\u001b[0;32m-> 1030\u001b[0m     dataset \u001b[38;5;241m=\u001b[39m \u001b[43mread_partial\u001b[49m\u001b[43m(\u001b[49m\n\u001b[1;32m   1031\u001b[0m \u001b[43m        \u001b[49m\u001b[43mfp\u001b[49m\u001b[43m,\u001b[49m\n\u001b[1;32m   1032\u001b[0m \u001b[43m        \u001b[49m\u001b[43mstop_when\u001b[49m\u001b[43m,\u001b[49m\n\u001b[1;32m   1033\u001b[0m \u001b[43m        \u001b[49m\u001b[43mdefer_size\u001b[49m\u001b[38;5;241;43m=\u001b[39;49m\u001b[43msize_in_bytes\u001b[49m\u001b[43m(\u001b[49m\u001b[43mdefer_size\u001b[49m\u001b[43m)\u001b[49m\u001b[43m,\u001b[49m\n\u001b[1;32m   1034\u001b[0m \u001b[43m        \u001b[49m\u001b[43mforce\u001b[49m\u001b[38;5;241;43m=\u001b[39;49m\u001b[43mforce\u001b[49m\u001b[43m,\u001b[49m\n\u001b[1;32m   1035\u001b[0m \u001b[43m        \u001b[49m\u001b[43mspecific_tags\u001b[49m\u001b[38;5;241;43m=\u001b[39;49m\u001b[43mspecific_tags\u001b[49m\u001b[43m,\u001b[49m\n\u001b[1;32m   1036\u001b[0m \u001b[43m    \u001b[49m\u001b[43m)\u001b[49m\n\u001b[1;32m   1037\u001b[0m \u001b[38;5;28;01mfinally\u001b[39;00m:\n\u001b[1;32m   1038\u001b[0m     \u001b[38;5;28;01mif\u001b[39;00m \u001b[38;5;129;01mnot\u001b[39;00m caller_owns_file:\n",
      "File \u001b[0;32m/usr/local/lib/python3.8/dist-packages/pydicom/filereader.py:778\u001b[0m, in \u001b[0;36mread_partial\u001b[0;34m(fileobj, stop_when, defer_size, force, specific_tags)\u001b[0m\n\u001b[1;32m    745\u001b[0m \u001b[38;5;124;03m\"\"\"Parse a DICOM file until a condition is met.\u001b[39;00m\n\u001b[1;32m    746\u001b[0m \n\u001b[1;32m    747\u001b[0m \u001b[38;5;124;03mParameters\u001b[39;00m\n\u001b[0;32m   (...)\u001b[0m\n\u001b[1;32m    773\u001b[0m \u001b[38;5;124;03m    More generic file reading function.\u001b[39;00m\n\u001b[1;32m    774\u001b[0m \u001b[38;5;124;03m\"\"\"\u001b[39;00m\n\u001b[1;32m    775\u001b[0m \u001b[38;5;66;03m# Read File Meta Information\u001b[39;00m\n\u001b[1;32m    776\u001b[0m \n\u001b[1;32m    777\u001b[0m \u001b[38;5;66;03m# Read preamble (if present)\u001b[39;00m\n\u001b[0;32m--> 778\u001b[0m preamble \u001b[38;5;241m=\u001b[39m \u001b[43mread_preamble\u001b[49m\u001b[43m(\u001b[49m\u001b[43mfileobj\u001b[49m\u001b[43m,\u001b[49m\u001b[43m \u001b[49m\u001b[43mforce\u001b[49m\u001b[43m)\u001b[49m\n\u001b[1;32m    779\u001b[0m \u001b[38;5;66;03m# Read any File Meta Information group (0002,eeee) elements (if present)\u001b[39;00m\n\u001b[1;32m    780\u001b[0m file_meta \u001b[38;5;241m=\u001b[39m _read_file_meta_info(fileobj)\n",
      "File \u001b[0;32m/usr/local/lib/python3.8/dist-packages/pydicom/filereader.py:723\u001b[0m, in \u001b[0;36mread_preamble\u001b[0;34m(fp, force)\u001b[0m\n\u001b[1;32m    720\u001b[0m     \u001b[38;5;28;01mreturn\u001b[39;00m \u001b[38;5;28;01mNone\u001b[39;00m\n\u001b[1;32m    722\u001b[0m \u001b[38;5;28;01mif\u001b[39;00m magic \u001b[38;5;241m!=\u001b[39m \u001b[38;5;124mb\u001b[39m\u001b[38;5;124m\"\u001b[39m\u001b[38;5;124mDICM\u001b[39m\u001b[38;5;124m\"\u001b[39m \u001b[38;5;129;01mand\u001b[39;00m \u001b[38;5;129;01mnot\u001b[39;00m force:\n\u001b[0;32m--> 723\u001b[0m     \u001b[38;5;28;01mraise\u001b[39;00m InvalidDicomError(\n\u001b[1;32m    724\u001b[0m         \u001b[38;5;124m\"\u001b[39m\u001b[38;5;124mFile is missing DICOM File Meta Information header or the \u001b[39m\u001b[38;5;124m'\u001b[39m\u001b[38;5;124mDICM\u001b[39m\u001b[38;5;124m'\u001b[39m\u001b[38;5;124m \u001b[39m\u001b[38;5;124m\"\u001b[39m\n\u001b[1;32m    725\u001b[0m         \u001b[38;5;124m\"\u001b[39m\u001b[38;5;124mprefix is missing from the header. Use force=True to force \u001b[39m\u001b[38;5;124m\"\u001b[39m\n\u001b[1;32m    726\u001b[0m         \u001b[38;5;124m\"\u001b[39m\u001b[38;5;124mreading.\u001b[39m\u001b[38;5;124m\"\u001b[39m\n\u001b[1;32m    727\u001b[0m     )\n\u001b[1;32m    728\u001b[0m \u001b[38;5;28;01melse\u001b[39;00m:\n\u001b[1;32m    729\u001b[0m     logger\u001b[38;5;241m.\u001b[39mdebug(\u001b[38;5;124mf\u001b[39m\u001b[38;5;124m\"\u001b[39m\u001b[38;5;132;01m{\u001b[39;00mfp\u001b[38;5;241m.\u001b[39mtell() \u001b[38;5;241m-\u001b[39m \u001b[38;5;241m4\u001b[39m\u001b[38;5;132;01m:\u001b[39;00m\u001b[38;5;124m08x\u001b[39m\u001b[38;5;132;01m}\u001b[39;00m\u001b[38;5;124m: \u001b[39m\u001b[38;5;124m'\u001b[39m\u001b[38;5;124mDICM\u001b[39m\u001b[38;5;124m'\u001b[39m\u001b[38;5;124m prefix found\u001b[39m\u001b[38;5;124m\"\u001b[39m)\n",
      "\u001b[0;31mInvalidDicomError\u001b[0m: File is missing DICOM File Meta Information header or the 'DICM' prefix is missing from the header. Use force=True to force reading."
     ]
    }
   ],
   "source": [
    "binary_string = response.content\n",
    "\n",
    "# Convert the binary string to a BytesIO object\n",
    "bytes_io = io.BytesIO(binary_string)\n",
    "\n",
    "# Read the DICOM file from the BytesIO object\n",
    "ds = pydicom.dcmread(bytes_io)\n",
    "\n",
    "# Now you can access the DICOM tags\n",
    "print(ds)"
   ]
  },
  {
   "cell_type": "code",
   "execution_count": 44,
   "id": "a816e6e0-724b-4d3b-a489-3013342e294c",
   "metadata": {},
   "outputs": [
    {
     "ename": "UnicodeDecodeError",
     "evalue": "'utf-8' codec can't decode byte 0xc4 in position 292: invalid continuation byte",
     "output_type": "error",
     "traceback": [
      "\u001b[0;31m---------------------------------------------------------------------------\u001b[0m",
      "\u001b[0;31mUnicodeDecodeError\u001b[0m                        Traceback (most recent call last)",
      "Input \u001b[0;32mIn [44]\u001b[0m, in \u001b[0;36m<cell line: 1>\u001b[0;34m()\u001b[0m\n\u001b[0;32m----> 1\u001b[0m \u001b[43mbinary_string\u001b[49m\u001b[38;5;241;43m.\u001b[39;49m\u001b[43mdecode\u001b[49m\u001b[43m(\u001b[49m\u001b[38;5;124;43m'\u001b[39;49m\u001b[38;5;124;43mutf-8\u001b[39;49m\u001b[38;5;124;43m'\u001b[39;49m\u001b[43m)\u001b[49m\n",
      "\u001b[0;31mUnicodeDecodeError\u001b[0m: 'utf-8' codec can't decode byte 0xc4 in position 292: invalid continuation byte"
     ]
    }
   ],
   "source": [
    "binary_string.decode('utf-8')"
   ]
  },
  {
   "cell_type": "code",
   "execution_count": null,
   "id": "e9b050f6-bf25-4d8f-b40b-77649f7d5546",
   "metadata": {},
   "outputs": [],
   "source": []
  }
 ],
 "metadata": {
  "kernelspec": {
   "display_name": "Python 3",
   "language": "python",
   "name": "python3"
  },
  "language_info": {
   "codemirror_mode": {
    "name": "ipython",
    "version": 3
   },
   "file_extension": ".py",
   "mimetype": "text/x-python",
   "name": "python",
   "nbconvert_exporter": "python",
   "pygments_lexer": "ipython3",
   "version": "3.8.10"
  }
 },
 "nbformat": 4,
 "nbformat_minor": 5
}
