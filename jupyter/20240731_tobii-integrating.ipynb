{
 "cells": [
  {
   "cell_type": "code",
   "execution_count": null,
   "metadata": {
    "collapsed": true
   },
   "outputs": [],
   "source": [
    "import tobii_research as tr\n",
    "\n",
    "def gaze_data_callback(gaze_data):\n",
    "    # Get the left and right eye gaze point on the screen\n",
    "    left_eye_point = gaze_data['left_gaze_point_on_display_area']\n",
    "    right_eye_point = gaze_data['right_gaze_point_on_display_area']\n",
    "\n",
    "    # Print gaze points\n",
    "    print(\"Left eye gaze point: \", left_eye_point)\n",
    "    print(\"Right eye gaze point: \", right_eye_point)\n",
    "\n",
    "# Find all connected eye trackers\n",
    "found_eyetrackers = tr.find_all_eyetrackers()\n",
    "\n",
    "# Get the first eye tracker\n",
    "my_eyetracker = found_eyetrackers[0]\n",
    "\n",
    "# Subscribe to the gaze data stream\n",
    "my_eyetracker.subscribe_to(tr.EYETRACKER_GAZE_DATA, gaze_data_callback)"
   ]
  },
  {
   "cell_type": "code",
   "execution_count": null,
   "outputs": [],
   "source": [
    "my_eyetracker.unsubscribe_from(tr.EYETRACKER_GAZE_DATA, gaze_data_callback)"
   ],
   "metadata": {
    "collapsed": false
   }
  }
 ],
 "metadata": {
  "kernelspec": {
   "display_name": "Python 3",
   "language": "python",
   "name": "python3"
  },
  "language_info": {
   "codemirror_mode": {
    "name": "ipython",
    "version": 2
   },
   "file_extension": ".py",
   "mimetype": "text/x-python",
   "name": "python",
   "nbconvert_exporter": "python",
   "pygments_lexer": "ipython2",
   "version": "2.7.6"
  }
 },
 "nbformat": 4,
 "nbformat_minor": 0
}
