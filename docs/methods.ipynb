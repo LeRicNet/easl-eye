{
 "cells": [
  {
   "cell_type": "markdown",
   "id": "cb69a13b-9c22-479a-989c-13e9ba27637e",
   "metadata": {},
   "source": [
    "## EYE-TRACKING PREPROCESSING\n",
    "\n",
    "[Cateyes](https://github.com/DiGyt/cateyes) python package\n",
    "\n",
    "This Python Toolbox was developed for Peter König's Neurobiopsychology Lab at the Institute of Cognitive Science, Osnabrück. Its aim is to provide easy access to different automated gaze classification algorithms and to generate a unified, simplistic, and elegant way of handling eye tracking data.\n",
    "\n",
    "Currently available gaze classification algorithms are:\n",
    "\n",
    " - REMoDNaV: Dar *, A. H., Wagner *, A. S. & Hanke, M. (2019). REMoDNaV: Robust Eye Movement Detection for Natural Viewing. bioRxiv. DOI: 10.1101/619254\n",
    " - U'n'Eye: Bellet, M. E., Bellet, J., Nienborg, H., Hafed, Z. M., & Berens, P. (2019). Human-level saccade detection performance using deep neural networks. Journal of neurophysiology, 121(2), 646-661.\n",
    " - NSLR-HMM: Pekkanen, J., & Lappi, O. (2017). A new and general approach to signal denoising and eye movement classification based on segmented linear regression. Scientific reports, 7(1), 1-13.\n",
    " - I-DT dispersion-based algorithm: Salvucci, D. D., & Goldberg, J. H. (2000). Identifying fixations and saccades in eye-tracking protocols. In Proceedings of the 2000 symposium on Eye tracking research & applications.\n",
    " - I-VT velocity-based algorithm: Salvucci, D. D., & Goldberg, J. H. (2000). Identifying fixations and saccades in eye-tracking protocols. In Proceedings of the 2000 symposium on Eye tracking research & applications."
   ]
  },
  {
   "cell_type": "markdown",
   "id": "e4fc14b5-54a7-4fdb-98c1-252f31364416",
   "metadata": {},
   "source": [
    "## GENERATING BOUNDING BOXES FOR MEDSAM INPUT\n",
    "\n",
    "There are two aspects to this problem. The first is to filter and/or smooth raw eye tracking values into discrete shapes, and the second is to "
   ]
  },
  {
   "cell_type": "code",
   "execution_count": null,
   "id": "7baf8075-ed0d-496a-a95c-76dd95b36085",
   "metadata": {},
   "outputs": [],
   "source": []
  }
 ],
 "metadata": {
  "kernelspec": {
   "display_name": "Python 3",
   "language": "python",
   "name": "python3"
  },
  "language_info": {
   "codemirror_mode": {
    "name": "ipython",
    "version": 3
   },
   "file_extension": ".py",
   "mimetype": "text/x-python",
   "name": "python",
   "nbconvert_exporter": "python",
   "pygments_lexer": "ipython3",
   "version": "3.8.10"
  }
 },
 "nbformat": 4,
 "nbformat_minor": 5
}
